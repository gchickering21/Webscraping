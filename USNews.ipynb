{
 "cells": [
  {
   "cell_type": "code",
   "execution_count": 1,
   "metadata": {},
   "outputs": [],
   "source": [
    "import requests\n",
    "from bs4 import BeautifulSoup\n",
    "import json\n",
    "import pandas\n",
    "from pandas import DataFrame\n",
    "import csv"
   ]
  },
  {
   "cell_type": "code",
   "execution_count": 2,
   "metadata": {
    "scrolled": false
   },
   "outputs": [
    {
     "name": "stdout",
     "output_type": "stream",
     "text": [
      "https://www.usnews.com/best-colleges/rankings/national-universities?_page=1&_mode=table\n",
      "https://www.usnews.com/best-colleges/rankings/national-universities?_page=2&_mode=table\n",
      "https://www.usnews.com/best-colleges/rankings/national-universities?_page=3&_mode=table\n",
      "https://www.usnews.com/best-colleges/rankings/national-universities?_page=4&_mode=table\n",
      "https://www.usnews.com/best-colleges/rankings/national-universities?_page=5&_mode=table\n",
      "https://www.usnews.com/best-colleges/rankings/national-universities?_page=6&_mode=table\n",
      "https://www.usnews.com/best-colleges/rankings/national-universities?_page=7&_mode=table\n"
     ]
    }
   ],
   "source": [
    "def opencodezscraping(webpage, page_number):\n",
    "    next_page = webpage + str(page_number)+ str(\"&_mode=table\")\n",
    "    headers = {\n",
    "    'User-Agent': 'Mozilla/5.0 (Macintosh; Intel Mac OS X 10_14_6) AppleWebKit/537.36 (KHTML, like Gecko) Chrome/84.0.4147.105 Safari/537.36'}\n",
    "    url=str(next_page)\n",
    "    print(url)\n",
    "    response= requests.get(url, headers=headers)\n",
    "    #html=response.content\n",
    "    #print(html)\n",
    "    soup = BeautifulSoup(response.content,\"lxml\")\n",
    "    #with open(\"Niche.html\", 'wb') as file:\n",
    "            #file.write(soup.prettify('utf-8'))\n",
    "    schools=soup.find_all('span', class_=\"Span-sc-19wk4id-0 ResultsTable__StatValue-sc-1rc32g3-2 boiqlw\", size=\"3\")\n",
    "    #soup_para=soup.find_all('div', class_='RankList__Rank-sc-2xewen-2 eSXDoJ ranked')\n",
    "    #print(soup_title)\n",
    "    #print[arr[index] for index in range(len(arr)) if index % 2 == 0]\n",
    "    #print[ schools[schools] for school in schools[1:42] if schools % 2 ==0]\n",
    "    \n",
    "    tuition=[]\n",
    "    for school in schools[1:41]:\n",
    "        tuition.append(school.get_text())\n",
    "       \n",
    "    #print(tuition)\n",
    "    matching=[x for x in tuition if 'Tuition' in x]\n",
    "    \n",
    "    #print(filter(lambda x: 'Enrollment' in x, tuition))\n",
    "    for i in matching:\n",
    "        print(i)\n",
    "    #print(tuition)   \n",
    "    if page_number < 7:\n",
    "        page_number = page_number + 1\n",
    "        #schools.clear()\n",
    "        opencodezscraping(webpage, page_number)\n",
    "#calling the function with relevant parameters\n",
    "opencodezscraping('https://www.usnews.com/best-colleges/rankings/national-universities?_page=', 1)"
   ]
  },
  {
   "cell_type": "code",
   "execution_count": 3,
   "metadata": {},
   "outputs": [],
   "source": [
    " url=\"https://www.usnews.com/best-colleges/rankings/national-universities?_page=1&_mode=table\""
   ]
  },
  {
   "cell_type": "code",
   "execution_count": 4,
   "metadata": {},
   "outputs": [
    {
     "data": {
      "text/plain": [
       "200"
      ]
     },
     "execution_count": 4,
     "metadata": {},
     "output_type": "execute_result"
    }
   ],
   "source": [
    "user_agent_desktop = \"Mozilla/5.0 (Macintosh; Intel Mac OS X 10.13; rv:78.0) Gecko/20100101 Firefox/78.0\"\n",
    "\n",
    "\n",
    "headers = {'User-Agent': user_agent_desktop}\n",
    "response = requests.get(url, headers=headers)\n",
    "response.status_code #print(html_content.text)\n"
   ]
  },
  {
   "cell_type": "code",
   "execution_count": 5,
   "metadata": {},
   "outputs": [
    {
     "ename": "AttributeError",
     "evalue": "module 'requests' has no attribute 'json'",
     "output_type": "error",
     "traceback": [
      "\u001b[0;31m---------------------------------------------------------------------------\u001b[0m",
      "\u001b[0;31mAttributeError\u001b[0m                            Traceback (most recent call last)",
      "\u001b[0;32m<ipython-input-5-dedfa4874ec1>\u001b[0m in \u001b[0;36m<module>\u001b[0;34m\u001b[0m\n\u001b[0;32m----> 1\u001b[0;31m \u001b[0minfo\u001b[0m\u001b[0;34m=\u001b[0m\u001b[0mrequests\u001b[0m\u001b[0;34m.\u001b[0m\u001b[0mjson\u001b[0m\u001b[0;34m(\u001b[0m\u001b[0;34m)\u001b[0m\u001b[0;34m\u001b[0m\u001b[0;34m\u001b[0m\u001b[0m\n\u001b[0m",
      "\u001b[0;31mAttributeError\u001b[0m: module 'requests' has no attribute 'json'"
     ]
    }
   ],
   "source": [
    "# info=requests.json()"
   ]
  },
  {
   "cell_type": "code",
   "execution_count": 6,
   "metadata": {},
   "outputs": [],
   "source": [
    "html=response.content"
   ]
  },
  {
   "cell_type": "code",
   "execution_count": 7,
   "metadata": {},
   "outputs": [],
   "source": [
    "soup=BeautifulSoup(html, 'lxml')"
   ]
  },
  {
   "cell_type": "code",
   "execution_count": 8,
   "metadata": {},
   "outputs": [],
   "source": [
    " with open(\"Niceh.html\", 'wb') as file:\n",
    "     file.write(soup.prettify('utf-8'))"
   ]
  },
  {
   "cell_type": "code",
   "execution_count": 9,
   "metadata": {},
   "outputs": [
    {
     "name": "stdout",
     "output_type": "stream",
     "text": [
      "Princeton University\n",
      "Harvard University\n",
      "Columbia University\n",
      "Massachusetts Institute of Technology\n",
      "Yale University\n",
      "Stanford University\n",
      "University of Chicago\n",
      "University of Pennsylvania\n",
      "California Institute of Technology\n",
      "Johns Hopkins University\n",
      "Northwestern University\n",
      "Duke University\n",
      "Dartmouth College\n",
      "Brown University\n",
      "Vanderbilt University\n",
      "Rice University\n",
      "Washington University in St. Louis\n",
      "Cornell University\n",
      "University of Notre Dame\n",
      "University of California--Los Angeles\n"
     ]
    }
   ],
   "source": [
    "schools=soup.find_all('a', class_=\"Anchor-byh49a-0 NuJEC\")\n",
    "#print(schools)\n",
    "for school in schools[8:28]:\n",
    "    print(school.get_text())\n",
    "    "
   ]
  },
  {
   "cell_type": "code",
   "execution_count": 10,
   "metadata": {},
   "outputs": [
    {
     "name": "stdout",
     "output_type": "stream",
     "text": [
      "$53,890Tuition and Fees\n",
      "5,422Enrollment\n",
      "$54,002Tuition and Fees\n",
      "6,755Enrollment\n",
      "$64,380Tuition and Fees\n",
      "6,245Enrollment\n",
      "$53,818Tuition and Fees\n",
      "4,530Enrollment\n",
      "$57,700Tuition and Fees\n",
      "6,092Enrollment\n",
      "$56,169Tuition and Fees\n",
      "6,996Enrollment\n",
      "$59,298Tuition and Fees\n",
      "6,734Enrollment\n",
      "$60,042Tuition and Fees\n",
      "10,019Enrollment\n",
      "$56,862Tuition and Fees\n",
      "938Enrollment\n",
      "$57,010Tuition and Fees\n",
      "6,256Enrollment\n",
      "$58,701Tuition and Fees\n",
      "8,327Enrollment\n",
      "$60,488Tuition and Fees\n",
      "6,649Enrollment\n",
      "$59,458Tuition and Fees\n",
      "4,459Enrollment\n",
      "$60,696Tuition and Fees\n",
      "7,160Enrollment\n",
      "$54,158Tuition and Fees\n",
      "6,886Enrollment\n",
      "$51,107Tuition and Fees\n",
      "3,989Enrollment\n",
      "$57,386Tuition and Fees\n",
      "7,822Enrollment\n",
      "$59,316Tuition and Fees\n",
      "15,043Enrollment\n",
      "$57,699Tuition and Fees\n",
      "8,731Enrollment\n",
      "$42,980 (out-of-state) Tuition and Fees\n",
      "$13,226 (in-state) Tuition and Fees\n",
      "31,543Enrollment\n",
      "$53,890Tuition and Fees\n",
      "5,422Enrollment\n",
      "$54,002Tuition and Fees\n",
      "6,755Enrollment\n",
      "$64,380Tuition and Fees\n",
      "6,245Enrollment\n",
      "$53,818Tuition and Fees\n",
      "4,530Enrollment\n",
      "$57,700Tuition and Fees\n",
      "6,092Enrollment\n",
      "$56,169Tuition and Fees\n",
      "6,996Enrollment\n",
      "$59,298Tuition and Fees\n",
      "6,734Enrollment\n",
      "$60,042Tuition and Fees\n",
      "10,019Enrollment\n",
      "$56,862Tuition and Fees\n",
      "938Enrollment\n",
      "$57,010Tuition and Fees\n",
      "6,256Enrollment\n",
      "$58,701Tuition and Fees\n",
      "8,327Enrollment\n",
      "$60,488Tuition and Fees\n",
      "6,649Enrollment\n",
      "$59,458Tuition and Fees\n",
      "4,459Enrollment\n",
      "$60,696Tuition and Fees\n",
      "7,160Enrollment\n",
      "$54,158Tuition and Fees\n",
      "6,886Enrollment\n",
      "$51,107Tuition and Fees\n",
      "3,989Enrollment\n",
      "$57,386Tuition and Fees\n",
      "7,822Enrollment\n",
      "$59,316Tuition and Fees\n",
      "15,043Enrollment\n",
      "$57,699Tuition and Fees\n",
      "8,731Enrollment\n",
      "$42,980 (out-of-state) Tuition and Fees\n",
      "$13,226 (in-state) Tuition and Fees\n",
      "31,543Enrollment\n"
     ]
    }
   ],
   "source": [
    "rankings=soup.find_all('span', class_='Span-sc-19wk4id-0 ResultsTable__StatValue-sc-1rc32g3-2 gfEIAc dxfxNA')\n",
    "for rank in rankings:\n",
    "    print(rank.get_text())"
   ]
  },
  {
   "cell_type": "code",
   "execution_count": null,
   "metadata": {},
   "outputs": [],
   "source": []
  }
 ],
 "metadata": {
  "kernelspec": {
   "display_name": "Python 3",
   "language": "python",
   "name": "python3"
  },
  "language_info": {
   "codemirror_mode": {
    "name": "ipython",
    "version": 3
   },
   "file_extension": ".py",
   "mimetype": "text/x-python",
   "name": "python",
   "nbconvert_exporter": "python",
   "pygments_lexer": "ipython3",
   "version": "3.8.3"
  }
 },
 "nbformat": 4,
 "nbformat_minor": 4
}
